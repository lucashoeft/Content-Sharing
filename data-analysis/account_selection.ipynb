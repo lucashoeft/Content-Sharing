{
 "cells": [
  {
   "cell_type": "code",
   "execution_count": 276,
   "id": "ea7a6fab",
   "metadata": {},
   "outputs": [],
   "source": [
    "import pandas as pd\n",
    "import seaborn as sns\n",
    "import os\n",
    "import re"
   ]
  },
  {
   "cell_type": "code",
   "execution_count": 277,
   "id": "9a70765c",
   "metadata": {},
   "outputs": [],
   "source": [
    "# Import Files\n",
    "mdb_list = pd.read_csv('../data/processed/mdb_list/mdb_list.csv', sep=\";\", na_values=\"\")\n",
    "user_list = pd.read_csv('../data/processed/user_list/user_list.csv', sep=\";\", na_values=\"\", dtype={'twitter_id': str})"
   ]
  },
  {
   "cell_type": "markdown",
   "id": "fd64267b",
   "metadata": {},
   "source": [
    "### Find all MDBs without a Twitter account"
   ]
  },
  {
   "cell_type": "code",
   "execution_count": 278,
   "id": "4329dfc6",
   "metadata": {},
   "outputs": [],
   "source": [
    "# MDBs without a Twitter account\n",
    "mdb_without_twitter = pd.merge(mdb_list, user_list, on='bundestag_id', how='left')\n",
    "mdb_without_twitter = mdb_without_twitter[mdb_without_twitter['twitter_id'].isnull()]\n",
    "\n",
    "# MDBs that deleted Twitter account\n",
    "mdb_deleted_twitter = user_list[user_list['twitter_id'].isnull()]"
   ]
  },
  {
   "cell_type": "code",
   "execution_count": 279,
   "id": "667827ac",
   "metadata": {},
   "outputs": [],
   "source": [
    "tweet_list = pd.DataFrame()\n",
    "pattern = re.compile(\"tweet_list_*\")\n",
    "directory = \"../data/processed/tweet_list/\"\n",
    "\n",
    "for filename in os.listdir(directory):\n",
    "    if pattern.match(filename):\n",
    "        filepath = directory + filename\n",
    "        user_tweet_list = pd.read_csv(filepath, sep=\";\", lineterminator='\\n')\n",
    "        tweet_list = pd.concat([tweet_list, user_tweet_list], axis=0)"
   ]
  },
  {
   "cell_type": "markdown",
   "id": "8961d29f",
   "metadata": {},
   "source": [
    "### Find starting point of tweet selection"
   ]
  },
  {
   "cell_type": "code",
   "execution_count": 280,
   "id": "558d1121",
   "metadata": {},
   "outputs": [
    {
     "name": "stdout",
     "output_type": "stream",
     "text": [
      "Tweet Count until 2022-05-28: 1024967\n",
      "Tweet Count since 2021-09-26 : 211851 ( 20.67 % of total amount of scraped tweets )\n",
      "\n",
      "### Tweet Type Distribution ###\n",
      "Normal Tweet: 55553 ( 26.22 % )\n",
      "Reply: 53303 ( 25.16 % )\n",
      "Quote: 21019 ( 9.92 % )\n",
      "Retweet: 81976 ( 38.7 % )\n",
      "Relevant Quote Count since 2021-09-26 : 749 ( 0.35 % )\n",
      "Relevant Retweet Count since 2021-09-26 : 3504 ( 1.65 % )\n"
     ]
    }
   ],
   "source": [
    "# Voting: '2021-09-26'\n",
    "# Official Start: '2021-10-26'\n",
    "date_parameter = '2021-09-26'\n",
    "\n",
    "tweet_list['tweet_created_at']= pd.to_datetime(tweet_list['tweet_created_at'])\n",
    "tweet_list1 = tweet_list[tweet_list['tweet_created_at'] >= date_parameter]\n",
    "print('Tweet Count until 2022-05-28:', tweet_list.shape[0])\n",
    "\n",
    "print('Tweet Count since', date_parameter, ':', tweet_list1.shape[0], '(', round(tweet_list1.shape[0]/tweet_list.shape[0]*100, 2), '% of total amount of scraped tweets )')\n",
    "\n",
    "quote_tweet_list = tweet_list1[tweet_list1['tweet_referenced_tweet_type'] == \"quoted\"]\n",
    "relevant_quote_tweet_list = pd.merge(quote_tweet_list, tweet_list1, left_on='tweet_referenced_tweet_id', right_on='tweet_id')\n",
    "retweet_tweet_list = tweet_list1[tweet_list1['tweet_referenced_tweet_type'] == \"retweeted\"]\n",
    "relevant_retweet_tweet_list = pd.merge(retweet_tweet_list, tweet_list1, left_on='tweet_referenced_tweet_id', right_on='tweet_id')\n",
    "\n",
    "print('\\n### Tweet Type Distribution ###')\n",
    "print('Normal Tweet:', tweet_list1[tweet_list1['tweet_referenced_tweet_type'].isnull()].shape[0], '(', round(tweet_list1[tweet_list1['tweet_referenced_tweet_type'].isnull()].shape[0]/tweet_list1.shape[0]*100, 2), '% )')\n",
    "print('Reply:', tweet_list1[tweet_list1['tweet_referenced_tweet_type'] == \"replied_to\"].shape[0], '(', round(tweet_list1[tweet_list1['tweet_referenced_tweet_type'] == \"replied_to\"].shape[0]/tweet_list1.shape[0]*100, 2), '% )')\n",
    "print('Quote:', tweet_list1[tweet_list1['tweet_referenced_tweet_type'] == \"quoted\"].shape[0], '(', round(tweet_list1[tweet_list1['tweet_referenced_tweet_type'] == \"quoted\"].shape[0]/tweet_list1.shape[0]*100, 2), '% )')\n",
    "print('Retweet:', tweet_list1[tweet_list1['tweet_referenced_tweet_type'] == \"retweeted\"].shape[0], '(', round(tweet_list1[tweet_list1['tweet_referenced_tweet_type'] == \"retweeted\"].shape[0]/tweet_list1.shape[0]*100, 2), '% )')\n",
    "\n",
    "print('Relevant Quote Count since', date_parameter, ':', relevant_quote_tweet_list.shape[0], '(', round(relevant_quote_tweet_list.shape[0]/tweet_list1.shape[0]*100, 2), '% )')\n",
    "print('Relevant Retweet Count since', date_parameter, ':', relevant_retweet_tweet_list.shape[0], '(', round(relevant_retweet_tweet_list.shape[0]/tweet_list1.shape[0]*100, 2), '% )')"
   ]
  },
  {
   "cell_type": "markdown",
   "id": "7e65dd25",
   "metadata": {},
   "source": [
    "### Identify accounts were not all tweets were scraped (because of high twitter usage)"
   ]
  },
  {
   "cell_type": "code",
   "execution_count": 281,
   "id": "e6c1d0db",
   "metadata": {},
   "outputs": [
    {
     "name": "stdout",
     "output_type": "stream",
     "text": [
      "\n",
      "MatthiasHauer\n",
      "Official Tweet count: 18080.0\n",
      "Tweets downloaded: 3200\n",
      "Percantage Downloaded 17.7 %\n",
      "Oldest Tweet: 2021-11-23 05:25:58+00:00\n",
      "Date Parameter: 2021-09-26 00:00:00\n",
      "\n",
      "SaraNanni\n",
      "Official Tweet count: 17017.0\n",
      "Tweets downloaded: 3200\n",
      "Percantage Downloaded 18.8 %\n",
      "Oldest Tweet: 2021-10-04 07:54:50+00:00\n",
      "Date Parameter: 2021-09-26 00:00:00\n"
     ]
    }
   ],
   "source": [
    "date_parameter = pd.to_datetime('2021-09-26') # 30 days prior voting\n",
    "\n",
    "user_list1 = user_list.dropna(subset=['twitter_id'])\n",
    "   \n",
    "def findOldestTweet(twitter_handle):\n",
    "    user_tweets = tweet_list[tweet_list['twitter_handle'] == twitter_handle]\n",
    "    return pd.to_datetime(user_tweets.iloc[-1]['tweet_created_at'])\n",
    "\n",
    "for index, contents in user_list1.iterrows():\n",
    "    tweets_downloaded = tweet_list[tweet_list['twitter_handle'] == contents['twitter_handle']].shape[0]\n",
    "    \n",
    "    if tweets_downloaded > 0:\n",
    "        dateOldestDownloadedTweet = pd.to_datetime(findOldestTweet(contents['twitter_handle'])).tz_localize(None)\n",
    "        \n",
    "        if dateOldestDownloadedTweet > date_parameter:\n",
    "            \n",
    "            if tweets_downloaded > 100:\n",
    "                percentage_downloaded = tweet_list[tweet_list['twitter_handle'] == contents['twitter_handle']].shape[0]/contents['tweet_count']\n",
    "                \n",
    "                if percentage_downloaded < 0.9:\n",
    "                    print()\n",
    "                    print(contents['twitter_handle'])\n",
    "\n",
    "                    print('Official Tweet count:', contents['tweet_count'])\n",
    "                    print('Tweets downloaded:', tweets_downloaded)\n",
    "                    print('Percantage Downloaded', round(percentage_downloaded*100,2), '%')\n",
    "\n",
    "                    print('Oldest Tweet:', findOldestTweet(contents['twitter_handle']))\n",
    "                    print('Date Parameter:', date_parameter)"
   ]
  },
  {
   "cell_type": "markdown",
   "id": "a3530739",
   "metadata": {},
   "source": [
    "### Find inactive accounts"
   ]
  },
  {
   "cell_type": "code",
   "execution_count": 282,
   "id": "b839176f",
   "metadata": {},
   "outputs": [
    {
     "name": "stdout",
     "output_type": "stream",
     "text": [
      "\n",
      "AnetteKramme\n",
      "Latest Tweet: 2020-06-21 07:45:09+00:00\n",
      "\n",
      "ToniHofreiter\n",
      "Latest Tweet: 2013-10-29 11:06:47+00:00\n",
      "\n",
      "CarstenMuellers\n",
      "Latest Tweet: 2009-07-08 15:50:13+00:00\n",
      "\n",
      "GerdesMdB\n",
      "Latest Tweet: Never tweeted\n",
      "\n",
      "VolkmarKlein\n",
      "Latest Tweet: 2021-06-11 15:33:50+00:00\n",
      "\n",
      "MdBMonstadt\n",
      "Latest Tweet: 2019-10-04 13:08:55+00:00\n",
      "\n",
      "FechnerJohannes\n",
      "Latest Tweet: Never tweeted\n",
      "\n",
      "UweFe\n",
      "Latest Tweet: 2009-06-15 15:27:15+00:00\n",
      "\n",
      "KoobMar\n",
      "Latest Tweet: Never tweeted\n",
      "\n",
      "JanMetzler\n",
      "Latest Tweet: 2019-09-10 11:37:28+00:00\n",
      "\n",
      "MittagSusanne\n",
      "Latest Tweet: Never tweeted\n",
      "\n",
      "WilfriedOellers\n",
      "Latest Tweet: 2019-05-09 17:25:05+00:00\n",
      "\n",
      "ruetzelbernd\n",
      "Latest Tweet: 2020-09-15 15:30:16+00:00\n",
      "\n",
      "UdoSchiefner\n",
      "Latest Tweet: 2020-06-18 08:33:38+00:00\n",
      "\n",
      "NAltenkamp\n",
      "Latest Tweet: Never tweeted\n",
      "\n",
      "Philipp_Amthor\n",
      "Latest Tweet: Never tweeted\n",
      "\n",
      "AlexGauland\n",
      "Latest Tweet: 2018-07-10 13:19:11+00:00\n",
      "\n",
      "Jochen_Haug\n",
      "Latest Tweet: 2021-05-19 12:58:25+00:00\n",
      "\n",
      "Huber_AfD\n",
      "Latest Tweet: 2017-10-12 00:37:06+00:00\n",
      "\n",
      "JoernKoenigAfD\n",
      "Latest Tweet: 2019-06-25 17:48:25+00:00\n",
      "\n",
      "NBaradari\n",
      "Latest Tweet: Never tweeted\n",
      "\n",
      "ali_aldailami\n",
      "Latest Tweet: 2020-04-28 15:28:34+00:00\n",
      "\n",
      "Holger_SciTec\n",
      "Latest Tweet: Never tweeted\n",
      "\n",
      "EnglhardtKopf\n",
      "Latest Tweet: 2020-12-18 23:15:39+00:00\n",
      "\n",
      "HumpferMarkus\n",
      "Latest Tweet: 2016-03-22 16:20:26+00:00\n",
      "\n",
      "timkluessendorf\n",
      "Latest Tweet: Never tweeted\n",
      "\n",
      "MartinKroeber\n",
      "Latest Tweet: Never tweeted\n",
      "\n",
      "SLahrkamp\n",
      "Latest Tweet: 2021-02-15 13:20:50+00:00\n",
      "\n",
      "TMachalet\n",
      "Latest Tweet: 2019-03-31 09:40:17+00:00\n",
      "\n",
      "MMoosdorf\n",
      "Latest Tweet: Never tweeted\n",
      "\n",
      "natalie_pawlik\n",
      "Latest Tweet: 2021-05-17 19:14:05+00:00\n",
      "\n",
      "PhilippiSpd\n",
      "Latest Tweet: 2021-04-23 12:01:39+00:00\n",
      "\n",
      "SchaetzlJo\n",
      "Latest Tweet: Never tweeted\n",
      "\n",
      "anja_troff\n",
      "Latest Tweet: Never tweeted\n",
      "\n",
      "weisse_Lena\n",
      "Latest Tweet: 2012-10-06 10:49:38+00:00\n",
      "\n",
      "n of inactive accounts 35\n"
     ]
    }
   ],
   "source": [
    "date_parameter = pd.to_datetime('2021-08-27') # 30 days prior voting\n",
    "\n",
    "def findLatestTweet(twitter_handle):\n",
    "    user_tweets = tweet_list[tweet_list['twitter_handle'] == twitter_handle]\n",
    "    return pd.to_datetime(user_tweets.iloc[0]['tweet_created_at'])\n",
    "\n",
    "inactiveUsers = []\n",
    "\n",
    "i = 0\n",
    "for index, contents in user_list1.iterrows():\n",
    "    tweets_downloaded = tweet_list[tweet_list['twitter_handle'] == contents['twitter_handle']].shape[0]\n",
    "    \n",
    "    if tweets_downloaded > 0:\n",
    "        dateLatestTweet = pd.to_datetime(findLatestTweet(contents['twitter_handle'])).tz_localize(None)\n",
    "        if dateLatestTweet < date_parameter:\n",
    "            inactiveUsers.append(contents['twitter_handle'])\n",
    "            print()\n",
    "            print(contents['twitter_handle'])\n",
    "            print('Latest Tweet:', findLatestTweet(contents['twitter_handle']))\n",
    "            i += 1\n",
    "    else:\n",
    "        inactiveUsers.append(contents['twitter_handle'])\n",
    "        print()\n",
    "        print(contents['twitter_handle'])\n",
    "        print('Latest Tweet: Never tweeted')\n",
    "        i += 1\n",
    "        \n",
    "print(\"\\nn of inactive accounts\", i)"
   ]
  },
  {
   "cell_type": "markdown",
   "id": "1cea079e",
   "metadata": {},
   "source": [
    "### Build dataframe with all relevant users"
   ]
  },
  {
   "cell_type": "code",
   "execution_count": 285,
   "id": "be19f353",
   "metadata": {},
   "outputs": [],
   "source": [
    "# Remove accounts that were deleted\n",
    "final_user_list = pd.concat([user_list, mdb_deleted_twitter]).drop_duplicates(keep=False)\n",
    "\n",
    "# Remove accounts that are inactive\n",
    "final_user_list = final_user_list[~final_user_list.twitter_handle.isin(inactiveUsers)]\n",
    "\n",
    "# Remove duplicate (Knut Gerschau has the wrong twitter_handle / the one of Knut Abraham)\n",
    "final_user_list = final_user_list.drop_duplicates(subset='twitter_handle', keep='first')\n",
    "\n",
    "final_user_list.to_csv('../data/processed/user_list/user_list_active.csv', index=False, decimal=',', sep=\";\", float_format='%.0f')"
   ]
  }
 ],
 "metadata": {
  "kernelspec": {
   "display_name": "Python 3 (ipykernel)",
   "language": "python",
   "name": "python3"
  },
  "language_info": {
   "codemirror_mode": {
    "name": "ipython",
    "version": 3
   },
   "file_extension": ".py",
   "mimetype": "text/x-python",
   "name": "python",
   "nbconvert_exporter": "python",
   "pygments_lexer": "ipython3",
   "version": "3.10.4"
  }
 },
 "nbformat": 4,
 "nbformat_minor": 5
}
