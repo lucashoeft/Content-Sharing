{
 "cells": [
  {
   "cell_type": "markdown",
   "id": "15cde008",
   "metadata": {},
   "source": [
    "# Friendships Analysis\n",
    "\n",
    "This notebook deals with the questions around who follows who and how these friendships can be described."
   ]
  },
  {
   "cell_type": "code",
   "execution_count": 71,
   "id": "bb5c6ae5",
   "metadata": {},
   "outputs": [],
   "source": [
    "import pandas as pd\n",
    "import numpy as np\n",
    "import seaborn as sns"
   ]
  },
  {
   "cell_type": "code",
   "execution_count": 17,
   "id": "ed3e0914",
   "metadata": {},
   "outputs": [],
   "source": [
    "user_friendships_evaluation = pd.read_csv('../data/processed/user_friendships_evaluation.csv', sep=\";\", na_values=\"\", dtype={'source_id': str, 'target_id': str})\n",
    "user_list = pd.read_csv('../data/processed/user_list.csv', sep=\";\", na_values=\"\", dtype={'twitter_id': str})"
   ]
  },
  {
   "cell_type": "markdown",
   "id": "1c86500f",
   "metadata": {},
   "source": [
    "### 1. How differ strong/weak ties among the parties? (Correlate strong tie = same party?)"
   ]
  },
  {
   "cell_type": "code",
   "execution_count": 70,
   "id": "7ad00057",
   "metadata": {},
   "outputs": [
    {
     "data": {
      "text/html": [
       "<div>\n",
       "<style scoped>\n",
       "    .dataframe tbody tr th:only-of-type {\n",
       "        vertical-align: middle;\n",
       "    }\n",
       "\n",
       "    .dataframe tbody tr th {\n",
       "        vertical-align: top;\n",
       "    }\n",
       "\n",
       "    .dataframe thead tr th {\n",
       "        text-align: left;\n",
       "    }\n",
       "\n",
       "    .dataframe thead tr:last-of-type th {\n",
       "        text-align: right;\n",
       "    }\n",
       "</style>\n",
       "<table border=\"1\" class=\"dataframe\">\n",
       "  <thead>\n",
       "    <tr>\n",
       "      <th></th>\n",
       "      <th colspan=\"7\" halign=\"left\">fraktion_x</th>\n",
       "    </tr>\n",
       "    <tr>\n",
       "      <th>fraktion_y</th>\n",
       "      <th>Alternative für Deutschland</th>\n",
       "      <th>Fraktion BÜNDNIS 90/DIE GRÜNEN</th>\n",
       "      <th>Fraktion DIE LINKE.</th>\n",
       "      <th>Fraktion der Christlich Demokratischen Union/Christlich - Sozialen Union</th>\n",
       "      <th>Fraktion der Freien Demokratischen Partei</th>\n",
       "      <th>Fraktion der Sozialdemokratischen Partei Deutschlands</th>\n",
       "      <th>Fraktionslos</th>\n",
       "    </tr>\n",
       "    <tr>\n",
       "      <th>tie_type</th>\n",
       "      <th></th>\n",
       "      <th></th>\n",
       "      <th></th>\n",
       "      <th></th>\n",
       "      <th></th>\n",
       "      <th></th>\n",
       "      <th></th>\n",
       "    </tr>\n",
       "  </thead>\n",
       "  <tbody>\n",
       "    <tr>\n",
       "      <th>no tie</th>\n",
       "      <td>362.0</td>\n",
       "      <td>655.0</td>\n",
       "      <td>57.0</td>\n",
       "      <td>3425.0</td>\n",
       "      <td>385.0</td>\n",
       "      <td>3974.0</td>\n",
       "      <td>1.0</td>\n",
       "    </tr>\n",
       "    <tr>\n",
       "      <th>strong</th>\n",
       "      <td>1200.0</td>\n",
       "      <td>4065.0</td>\n",
       "      <td>394.0</td>\n",
       "      <td>2973.0</td>\n",
       "      <td>2607.0</td>\n",
       "      <td>4049.0</td>\n",
       "      <td>NaN</td>\n",
       "    </tr>\n",
       "    <tr>\n",
       "      <th>weak</th>\n",
       "      <td>716.0</td>\n",
       "      <td>1721.0</td>\n",
       "      <td>179.0</td>\n",
       "      <td>2248.0</td>\n",
       "      <td>924.0</td>\n",
       "      <td>3152.0</td>\n",
       "      <td>NaN</td>\n",
       "    </tr>\n",
       "  </tbody>\n",
       "</table>\n",
       "</div>"
      ],
      "text/plain": [
       "                            fraktion_x                                 \\\n",
       "fraktion_y Alternative für Deutschland Fraktion BÜNDNIS 90/DIE GRÜNEN   \n",
       "tie_type                                                                \n",
       "no tie                           362.0                          655.0   \n",
       "strong                          1200.0                         4065.0   \n",
       "weak                             716.0                         1721.0   \n",
       "\n",
       "                                \\\n",
       "fraktion_y Fraktion DIE LINKE.   \n",
       "tie_type                         \n",
       "no tie                    57.0   \n",
       "strong                   394.0   \n",
       "weak                     179.0   \n",
       "\n",
       "                                                                                     \\\n",
       "fraktion_y Fraktion der Christlich Demokratischen Union/Christlich - Sozialen Union   \n",
       "tie_type                                                                              \n",
       "no tie                                                 3425.0                         \n",
       "strong                                                 2973.0                         \n",
       "weak                                                   2248.0                         \n",
       "\n",
       "                                                      \\\n",
       "fraktion_y Fraktion der Freien Demokratischen Partei   \n",
       "tie_type                                               \n",
       "no tie                                         385.0   \n",
       "strong                                        2607.0   \n",
       "weak                                           924.0   \n",
       "\n",
       "                                                                               \n",
       "fraktion_y Fraktion der Sozialdemokratischen Partei Deutschlands Fraktionslos  \n",
       "tie_type                                                                       \n",
       "no tie                                                 3974.0             1.0  \n",
       "strong                                                 4049.0             NaN  \n",
       "weak                                                   3152.0             NaN  "
      ]
     },
     "metadata": {},
     "output_type": "display_data"
    }
   ],
   "source": [
    "# Add the account information from user_list to the user_friendships\n",
    "user_friendships_evaluation_with_user_list = pd.merge(user_friendships_evaluation, user_list, left_on='source_screen_name', right_on='twitter_handle')\n",
    "user_friendships_evaluation_with_user_list = pd.merge(user_friendships_evaluation_with_user_list, user_list, left_on='target_screen_name', right_on='twitter_handle')\n",
    "\n",
    "# Create new data frame with only the relevant columns\n",
    "tie_evaluation_fraction = user_friendships_evaluation_with_user_list[['source_screen_name', 'target_screen_name', 'tie_type', 'fraktion_x', 'fraktion_y']]\n",
    "\n",
    "# Create dataframe only containing rows of two users that are in the same fraction/party\n",
    "same_fraction = tie_evaluation_fraction[tie_evaluation_fraction['fraktion_x'] == tie_evaluation_fraction['fraktion_y']]\n",
    "\n",
    "# Create pivot counting how often a tie_type appears in a party/fraction\n",
    "same_fraction_pivot = pd.pivot_table(same_fraction, index=['tie_type'], columns=['fraktion_y'], values=['fraktion_x'], aggfunc='count')\n",
    "display(same_fraction_pivot)"
   ]
  },
  {
   "cell_type": "markdown",
   "id": "896e7962",
   "metadata": {},
   "source": [
    "### 2. Can difference between the twitter follower counts predict if they are weak/strong ties?"
   ]
  },
  {
   "cell_type": "code",
   "execution_count": 106,
   "id": "036a2d73",
   "metadata": {},
   "outputs": [
    {
     "name": "stdout",
     "output_type": "stream",
     "text": [
      "Mean follower difference between strong ties: 40678.901015228425\n",
      "Mean follower difference between weak ties: 94542.86441563872\n",
      "Median follower difference between strong ties: 5942.0\n",
      "Median follower difference between weak ties: 11317.0\n"
     ]
    },
    {
     "name": "stderr",
     "output_type": "stream",
     "text": [
      "/var/folders/bh/vwy58769197gtfy7_tb12xqw0000gn/T/ipykernel_16056/2701402109.py:4: SettingWithCopyWarning: \n",
      "A value is trying to be set on a copy of a slice from a DataFrame.\n",
      "Try using .loc[row_indexer,col_indexer] = value instead\n",
      "\n",
      "See the caveats in the documentation: https://pandas.pydata.org/pandas-docs/stable/user_guide/indexing.html#returning-a-view-versus-a-copy\n",
      "  user_friendships_evaluation_with_user_list_and_ties[\"abs_follower_difference\"] = abs(user_friendships_evaluation_with_user_list['followers_count_x'] - user_friendships_evaluation_with_user_list['followers_count_y'])\n"
     ]
    }
   ],
   "source": [
    "user_friendships_evaluation_with_user_list_and_ties = user_friendships_evaluation_with_user_list[user_friendships_evaluation_with_user_list['tie_type'] != 'no tie']\n",
    "\n",
    "# Calulcate the absolute follower difference between two accounts\n",
    "user_friendships_evaluation_with_user_list_and_ties[\"abs_follower_difference\"] = abs(user_friendships_evaluation_with_user_list['followers_count_x'] - user_friendships_evaluation_with_user_list['followers_count_y'])\n",
    "\n",
    "print(\"Mean follower difference between strong ties:\", user_friendships_evaluation_with_user_list_and_ties[user_friendships_evaluation_with_user_list_and_ties['tie_type'] == 'strong'][\"abs_follower_difference\"].mean())\n",
    "print(\"Mean follower difference between weak ties:\", user_friendships_evaluation_with_user_list_and_ties[user_friendships_evaluation_with_user_list_and_ties['tie_type'] == 'weak'][\"abs_follower_difference\"].mean())\n",
    "\n",
    "print(\"Median follower difference between strong ties:\", user_friendships_evaluation_with_user_list_and_ties[user_friendships_evaluation_with_user_list_and_ties['tie_type'] == 'strong'][\"abs_follower_difference\"].median())\n",
    "print(\"Median follower difference between weak ties:\", user_friendships_evaluation_with_user_list_and_ties[user_friendships_evaluation_with_user_list_and_ties['tie_type'] == 'weak'][\"abs_follower_difference\"].median())\n",
    "\n",
    "\n",
    "# Create data frame that only contains weak or strong ties\n",
    "# user_friendships_evaluation_with_user_list_and_ties = user_friendships_evaluation_with_user_list[user_friendships_evaluation_with_user_list['tie_type'] != 'no tie']\n",
    "# print(user_friendships_evaluation_with_user_list_and_ties[\"followers_count_y\"].dtype)\n",
    "\n",
    "# p1 = sns.relplot(x=\"followers_count_x\", y=\"followers_count_y\", hue=\"tie_type\", data=user_friendships_evaluation_with_user_list_and_ties)\n",
    "# p1.map_dataframe(sns.lineplot, 'x', 'y_line', color='g')\n",
    "# plt.ticklabel_format(style='plain', axis='y')\n",
    "\n",
    "# sns.scatterplot(data=user_friendships_evaluation_with_user_list_and_ties, x=\"followers_count_x\", y=\"followers_count_y\", hue=\"tie_type\")"
   ]
  },
  {
   "cell_type": "markdown",
   "id": "d1a93391",
   "metadata": {},
   "source": [
    "### 3. Do accounts with many followers have more weak ties?"
   ]
  },
  {
   "cell_type": "code",
   "execution_count": null,
   "id": "82cda6a0",
   "metadata": {},
   "outputs": [],
   "source": []
  },
  {
   "cell_type": "markdown",
   "id": "c9c26d07",
   "metadata": {},
   "source": [
    "### 4. If all edges of one party are summed together and divided by the number of party-member-accounts, which parties are the most closest connected?"
   ]
  },
  {
   "cell_type": "code",
   "execution_count": null,
   "id": "73f5548e",
   "metadata": {},
   "outputs": [],
   "source": []
  },
  {
   "cell_type": "markdown",
   "id": "e805e8d1",
   "metadata": {},
   "source": [
    "### 5. Do strong ties interact more with each other (retweet/reply to/mentions)?"
   ]
  },
  {
   "cell_type": "code",
   "execution_count": null,
   "id": "672688c5",
   "metadata": {},
   "outputs": [],
   "source": []
  },
  {
   "cell_type": "markdown",
   "id": "d1c280cd",
   "metadata": {},
   "source": [
    "### 6. Are there accounts were connections and party do not align? (Users that are in the wrong “Bubble” - nearest neighbor?) "
   ]
  },
  {
   "cell_type": "code",
   "execution_count": null,
   "id": "fcaf583e",
   "metadata": {},
   "outputs": [],
   "source": []
  }
 ],
 "metadata": {
  "kernelspec": {
   "display_name": "Python 3 (ipykernel)",
   "language": "python",
   "name": "python3"
  },
  "language_info": {
   "codemirror_mode": {
    "name": "ipython",
    "version": 3
   },
   "file_extension": ".py",
   "mimetype": "text/x-python",
   "name": "python",
   "nbconvert_exporter": "python",
   "pygments_lexer": "ipython3",
   "version": "3.10.4"
  }
 },
 "nbformat": 4,
 "nbformat_minor": 5
}
