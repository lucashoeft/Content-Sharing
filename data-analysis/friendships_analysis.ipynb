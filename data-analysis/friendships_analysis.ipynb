{
 "cells": [
  {
   "cell_type": "markdown",
   "id": "15cde008",
   "metadata": {},
   "source": [
    "# Friendships Analysis\n",
    "\n",
    "This notebook deals with the questions around who follows who and how these friendships can be described."
   ]
  },
  {
   "cell_type": "code",
   "execution_count": 2,
   "id": "bb5c6ae5",
   "metadata": {},
   "outputs": [],
   "source": [
    "import pandas as pd\n",
    "import numpy as np\n",
    "import seaborn as sns"
   ]
  },
  {
   "cell_type": "code",
   "execution_count": 3,
   "id": "ed3e0914",
   "metadata": {},
   "outputs": [],
   "source": [
    "user_friendships_evaluation = pd.read_csv('../data/processed/user_friendships_evaluation.csv', sep=\";\", na_values=\"\", dtype={'source_id': str, 'target_id': str})\n",
    "user_list = pd.read_csv('../data/processed/user_list.csv', sep=\";\", na_values=\"\", dtype={'twitter_id': str})"
   ]
  },
  {
   "cell_type": "markdown",
   "id": "1c86500f",
   "metadata": {},
   "source": [
    "### 1. How differ strong/weak ties among the parties? (Correlate strong tie = same party?)"
   ]
  },
  {
   "cell_type": "code",
   "execution_count": 21,
   "id": "7ad00057",
   "metadata": {},
   "outputs": [
    {
     "data": {
      "text/html": [
       "<div>\n",
       "<style scoped>\n",
       "    .dataframe tbody tr th:only-of-type {\n",
       "        vertical-align: middle;\n",
       "    }\n",
       "\n",
       "    .dataframe tbody tr th {\n",
       "        vertical-align: top;\n",
       "    }\n",
       "\n",
       "    .dataframe thead th {\n",
       "        text-align: right;\n",
       "    }\n",
       "</style>\n",
       "<table border=\"1\" class=\"dataframe\">\n",
       "  <thead>\n",
       "    <tr style=\"text-align: right;\">\n",
       "      <th></th>\n",
       "      <th>tie_type</th>\n",
       "      <th>Alternative für Deutschland</th>\n",
       "      <th>Fraktion BÜNDNIS 90/DIE GRÜNEN</th>\n",
       "      <th>Fraktion DIE LINKE.</th>\n",
       "      <th>Fraktion der Christlich Demokratischen Union/Christlich - Sozialen Union</th>\n",
       "      <th>Fraktion der Freien Demokratischen Partei</th>\n",
       "      <th>Fraktion der Sozialdemokratischen Partei Deutschlands</th>\n",
       "      <th>Fraktionslos</th>\n",
       "    </tr>\n",
       "  </thead>\n",
       "  <tbody>\n",
       "    <tr>\n",
       "      <th>0</th>\n",
       "      <td>no tie</td>\n",
       "      <td>362.0</td>\n",
       "      <td>655.0</td>\n",
       "      <td>57.0</td>\n",
       "      <td>3425.0</td>\n",
       "      <td>385.0</td>\n",
       "      <td>3974.0</td>\n",
       "      <td>1.0</td>\n",
       "    </tr>\n",
       "    <tr>\n",
       "      <th>1</th>\n",
       "      <td>strong</td>\n",
       "      <td>1200.0</td>\n",
       "      <td>4065.0</td>\n",
       "      <td>394.0</td>\n",
       "      <td>2973.0</td>\n",
       "      <td>2607.0</td>\n",
       "      <td>4049.0</td>\n",
       "      <td>NaN</td>\n",
       "    </tr>\n",
       "    <tr>\n",
       "      <th>2</th>\n",
       "      <td>weak</td>\n",
       "      <td>716.0</td>\n",
       "      <td>1721.0</td>\n",
       "      <td>179.0</td>\n",
       "      <td>2248.0</td>\n",
       "      <td>924.0</td>\n",
       "      <td>3152.0</td>\n",
       "      <td>NaN</td>\n",
       "    </tr>\n",
       "  </tbody>\n",
       "</table>\n",
       "</div>"
      ],
      "text/plain": [
       "  tie_type  Alternative für Deutschland  Fraktion BÜNDNIS 90/DIE GRÜNEN  \\\n",
       "0   no tie                        362.0                           655.0   \n",
       "1   strong                       1200.0                          4065.0   \n",
       "2     weak                        716.0                          1721.0   \n",
       "\n",
       "   Fraktion DIE LINKE.  \\\n",
       "0                 57.0   \n",
       "1                394.0   \n",
       "2                179.0   \n",
       "\n",
       "   Fraktion der Christlich Demokratischen Union/Christlich - Sozialen Union  \\\n",
       "0                                             3425.0                          \n",
       "1                                             2973.0                          \n",
       "2                                             2248.0                          \n",
       "\n",
       "   Fraktion der Freien Demokratischen Partei  \\\n",
       "0                                      385.0   \n",
       "1                                     2607.0   \n",
       "2                                      924.0   \n",
       "\n",
       "   Fraktion der Sozialdemokratischen Partei Deutschlands  Fraktionslos  \n",
       "0                                             3974.0               1.0  \n",
       "1                                             4049.0               NaN  \n",
       "2                                             3152.0               NaN  "
      ]
     },
     "metadata": {},
     "output_type": "display_data"
    },
    {
     "data": {
      "text/html": [
       "<div>\n",
       "<style scoped>\n",
       "    .dataframe tbody tr th:only-of-type {\n",
       "        vertical-align: middle;\n",
       "    }\n",
       "\n",
       "    .dataframe tbody tr th {\n",
       "        vertical-align: top;\n",
       "    }\n",
       "\n",
       "    .dataframe thead th {\n",
       "        text-align: right;\n",
       "    }\n",
       "</style>\n",
       "<table border=\"1\" class=\"dataframe\">\n",
       "  <thead>\n",
       "    <tr style=\"text-align: right;\">\n",
       "      <th></th>\n",
       "      <th>tie_type</th>\n",
       "      <th>Alternative für Deutschland</th>\n",
       "      <th>Fraktion BÜNDNIS 90/DIE GRÜNEN</th>\n",
       "      <th>Fraktion DIE LINKE.</th>\n",
       "      <th>Fraktion der Christlich Demokratischen Union/Christlich - Sozialen Union</th>\n",
       "      <th>Fraktion der Freien Demokratischen Partei</th>\n",
       "      <th>Fraktion der Sozialdemokratischen Partei Deutschlands</th>\n",
       "      <th>Fraktionslos</th>\n",
       "    </tr>\n",
       "  </thead>\n",
       "  <tbody>\n",
       "    <tr>\n",
       "      <th>0</th>\n",
       "      <td>no tie</td>\n",
       "      <td>15.9</td>\n",
       "      <td>10.2</td>\n",
       "      <td>9.0</td>\n",
       "      <td>39.6</td>\n",
       "      <td>9.8</td>\n",
       "      <td>35.6</td>\n",
       "      <td>100.0</td>\n",
       "    </tr>\n",
       "    <tr>\n",
       "      <th>1</th>\n",
       "      <td>strong</td>\n",
       "      <td>52.7</td>\n",
       "      <td>63.1</td>\n",
       "      <td>62.5</td>\n",
       "      <td>34.4</td>\n",
       "      <td>66.6</td>\n",
       "      <td>36.2</td>\n",
       "      <td>NaN</td>\n",
       "    </tr>\n",
       "    <tr>\n",
       "      <th>2</th>\n",
       "      <td>weak</td>\n",
       "      <td>31.4</td>\n",
       "      <td>26.7</td>\n",
       "      <td>28.4</td>\n",
       "      <td>26.0</td>\n",
       "      <td>23.6</td>\n",
       "      <td>28.2</td>\n",
       "      <td>NaN</td>\n",
       "    </tr>\n",
       "  </tbody>\n",
       "</table>\n",
       "</div>"
      ],
      "text/plain": [
       "  tie_type  Alternative für Deutschland  Fraktion BÜNDNIS 90/DIE GRÜNEN  \\\n",
       "0   no tie                         15.9                            10.2   \n",
       "1   strong                         52.7                            63.1   \n",
       "2     weak                         31.4                            26.7   \n",
       "\n",
       "   Fraktion DIE LINKE.  \\\n",
       "0                  9.0   \n",
       "1                 62.5   \n",
       "2                 28.4   \n",
       "\n",
       "   Fraktion der Christlich Demokratischen Union/Christlich - Sozialen Union  \\\n",
       "0                                               39.6                          \n",
       "1                                               34.4                          \n",
       "2                                               26.0                          \n",
       "\n",
       "   Fraktion der Freien Demokratischen Partei  \\\n",
       "0                                        9.8   \n",
       "1                                       66.6   \n",
       "2                                       23.6   \n",
       "\n",
       "   Fraktion der Sozialdemokratischen Partei Deutschlands  Fraktionslos  \n",
       "0                                               35.6             100.0  \n",
       "1                                               36.2               NaN  \n",
       "2                                               28.2               NaN  "
      ]
     },
     "metadata": {},
     "output_type": "display_data"
    }
   ],
   "source": [
    "# Add the account information from user_list to the user_friendships\n",
    "user_friendships_evaluation_with_user_list = pd.merge(user_friendships_evaluation, user_list, left_on='source_screen_name', right_on='twitter_handle')\n",
    "user_friendships_evaluation_with_user_list = pd.merge(user_friendships_evaluation_with_user_list, user_list, left_on='target_screen_name', right_on='twitter_handle')\n",
    "\n",
    "# Create new data frame with only the relevant columns\n",
    "tie_evaluation_fraction = user_friendships_evaluation_with_user_list[['source_screen_name', 'target_screen_name', 'tie_type', 'fraktion_x', 'fraktion_y']]\n",
    "\n",
    "# Create dataframe only containing rows of two users that are in the same fraction/party\n",
    "same_fraction = tie_evaluation_fraction[tie_evaluation_fraction['fraktion_x'] == tie_evaluation_fraction['fraktion_y']]\n",
    "\n",
    "# Create pivot counting how often a tie_type appears in a party/fraction\n",
    "same_fraction_pivot = pd.pivot_table(same_fraction, index=['tie_type'], columns=['fraktion_y'], values=['fraktion_x'], aggfunc='count')\n",
    "same_fraction_pivot = same_fraction_pivot.droplevel(0, axis=1).rename_axis(None, axis=1).reset_index()\n",
    "display(same_fraction_pivot)\n",
    "\n",
    "same_fraction_pivot['Alternative für Deutschland'] = round(same_fraction_pivot['Alternative für Deutschland'] / same_fraction_pivot['Alternative für Deutschland'].sum() * 100, 1)\n",
    "same_fraction_pivot['Fraktion BÜNDNIS 90/DIE GRÜNEN'] = round(same_fraction_pivot['Fraktion BÜNDNIS 90/DIE GRÜNEN'] / same_fraction_pivot['Fraktion BÜNDNIS 90/DIE GRÜNEN'].sum() * 100, 1)\n",
    "same_fraction_pivot['Fraktion DIE LINKE.'] = round(same_fraction_pivot['Fraktion DIE LINKE.'] / same_fraction_pivot['Fraktion DIE LINKE.'].sum() * 100, 1)\n",
    "same_fraction_pivot['Fraktion der Christlich Demokratischen Union/Christlich - Sozialen Union'] = round(same_fraction_pivot['Fraktion der Christlich Demokratischen Union/Christlich - Sozialen Union'] / same_fraction_pivot['Fraktion der Christlich Demokratischen Union/Christlich - Sozialen Union'].sum() * 100, 1)\n",
    "same_fraction_pivot['Fraktion der Freien Demokratischen Partei'] = round(same_fraction_pivot['Fraktion der Freien Demokratischen Partei'] / same_fraction_pivot['Fraktion der Freien Demokratischen Partei'].sum() * 100, 1)\n",
    "same_fraction_pivot['Fraktion der Sozialdemokratischen Partei Deutschlands'] = round(same_fraction_pivot['Fraktion der Sozialdemokratischen Partei Deutschlands'] / same_fraction_pivot['Fraktion der Sozialdemokratischen Partei Deutschlands'].sum() * 100, 1)\n",
    "same_fraction_pivot['Fraktionslos'] = round(same_fraction_pivot['Fraktionslos'] / same_fraction_pivot['Fraktionslos'].sum() * 100, 1)\n",
    "\n",
    "display(same_fraction_pivot)"
   ]
  },
  {
   "cell_type": "markdown",
   "id": "896e7962",
   "metadata": {},
   "source": [
    "### 2. Can difference between the twitter follower counts predict if they are weak/strong ties?"
   ]
  },
  {
   "cell_type": "code",
   "execution_count": null,
   "id": "b0e474e7",
   "metadata": {},
   "outputs": [],
   "source": []
  },
  {
   "cell_type": "code",
   "execution_count": null,
   "id": "036a2d73",
   "metadata": {},
   "outputs": [],
   "source": [
    "user_friendships_evaluation_with_user_list_and_ties = user_friendships_evaluation_with_user_list[user_friendships_evaluation_with_user_list['tie_type'] != 'no tie']\n",
    "\n",
    "# Calulcate the absolute follower difference between two accounts\n",
    "user_friendships_evaluation_with_user_list_and_ties[\"abs_follower_difference\"] = abs(user_friendships_evaluation_with_user_list['followers_count_x'] - user_friendships_evaluation_with_user_list['followers_count_y'])\n",
    "\n",
    "print(\"Mean follower difference between strong ties:\", user_friendships_evaluation_with_user_list_and_ties[user_friendships_evaluation_with_user_list_and_ties['tie_type'] == 'strong'][\"abs_follower_difference\"].mean())\n",
    "print(\"Mean follower difference between weak ties:\", user_friendships_evaluation_with_user_list_and_ties[user_friendships_evaluation_with_user_list_and_ties['tie_type'] == 'weak'][\"abs_follower_difference\"].mean())\n",
    "\n",
    "print(\"Median follower difference between strong ties:\", user_friendships_evaluation_with_user_list_and_ties[user_friendships_evaluation_with_user_list_and_ties['tie_type'] == 'strong'][\"abs_follower_difference\"].median())\n",
    "print(\"Median follower difference between weak ties:\", user_friendships_evaluation_with_user_list_and_ties[user_friendships_evaluation_with_user_list_and_ties['tie_type'] == 'weak'][\"abs_follower_difference\"].median())\n",
    "\n",
    "\n",
    "# Create data frame that only contains weak or strong ties\n",
    "# user_friendships_evaluation_with_user_list_and_ties = user_friendships_evaluation_with_user_list[user_friendships_evaluation_with_user_list['tie_type'] != 'no tie']\n",
    "# print(user_friendships_evaluation_with_user_list_and_ties[\"followers_count_y\"].dtype)\n",
    "\n",
    "# p1 = sns.relplot(x=\"followers_count_x\", y=\"followers_count_y\", hue=\"tie_type\", data=user_friendships_evaluation_with_user_list_and_ties)\n",
    "# p1.map_dataframe(sns.lineplot, 'x', 'y_line', color='g')\n",
    "# plt.ticklabel_format(style='plain', axis='y')\n",
    "\n",
    "# sns.scatterplot(data=user_friendships_evaluation_with_user_list_and_ties, x=\"followers_count_x\", y=\"followers_count_y\", hue=\"tie_type\")"
   ]
  },
  {
   "cell_type": "markdown",
   "id": "d1a93391",
   "metadata": {},
   "source": [
    "### 3. Do accounts with many followers have more weak ties?"
   ]
  },
  {
   "cell_type": "code",
   "execution_count": null,
   "id": "82cda6a0",
   "metadata": {},
   "outputs": [],
   "source": []
  },
  {
   "cell_type": "markdown",
   "id": "c9c26d07",
   "metadata": {},
   "source": [
    "### 4. If all edges of one party are summed together and divided by the number of party-member-accounts, which parties are the most closest connected?"
   ]
  },
  {
   "cell_type": "code",
   "execution_count": null,
   "id": "73f5548e",
   "metadata": {},
   "outputs": [],
   "source": []
  },
  {
   "cell_type": "markdown",
   "id": "e805e8d1",
   "metadata": {},
   "source": [
    "### 5. Do strong ties interact more with each other (retweet/reply to/mentions)?"
   ]
  },
  {
   "cell_type": "code",
   "execution_count": null,
   "id": "672688c5",
   "metadata": {},
   "outputs": [],
   "source": []
  },
  {
   "cell_type": "markdown",
   "id": "d1c280cd",
   "metadata": {},
   "source": [
    "### 6. Are there accounts were connections and party do not align? (Users that are in the wrong “Bubble” - nearest neighbor?) "
   ]
  },
  {
   "cell_type": "code",
   "execution_count": null,
   "id": "fcaf583e",
   "metadata": {},
   "outputs": [],
   "source": []
  }
 ],
 "metadata": {
  "kernelspec": {
   "display_name": "Python 3 (ipykernel)",
   "language": "python",
   "name": "python3"
  },
  "language_info": {
   "codemirror_mode": {
    "name": "ipython",
    "version": 3
   },
   "file_extension": ".py",
   "mimetype": "text/x-python",
   "name": "python",
   "nbconvert_exporter": "python",
   "pygments_lexer": "ipython3",
   "version": "3.10.4"
  }
 },
 "nbformat": 4,
 "nbformat_minor": 5
}
