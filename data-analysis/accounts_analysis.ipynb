{
 "cells": [
  {
   "cell_type": "markdown",
   "id": "fb2565f4",
   "metadata": {},
   "source": [
    "# Accounts Analysis\n",
    "\n",
    "This notebook deals with the questions around the data set that contains the list of all users."
   ]
  },
  {
   "cell_type": "code",
   "execution_count": 1,
   "id": "528e6a6f",
   "metadata": {},
   "outputs": [],
   "source": [
    "import pandas as pd"
   ]
  },
  {
   "cell_type": "markdown",
   "id": "a1a9ff1b",
   "metadata": {},
   "source": [
    "### 1. How is the account/twitter distribution among the parties?"
   ]
  },
  {
   "cell_type": "markdown",
   "id": "08d826cd",
   "metadata": {},
   "source": [
    "### 2. What is the average follower count per party?"
   ]
  },
  {
   "cell_type": "markdown",
   "id": "5d081b55",
   "metadata": {},
   "source": [
    "### 3. Which users have the most followers?"
   ]
  },
  {
   "cell_type": "markdown",
   "id": "4bd92c7e",
   "metadata": {},
   "source": [
    "### 4. Who is verified?"
   ]
  }
 ],
 "metadata": {
  "kernelspec": {
   "display_name": "Python 3 (ipykernel)",
   "language": "python",
   "name": "python3"
  },
  "language_info": {
   "codemirror_mode": {
    "name": "ipython",
    "version": 3
   },
   "file_extension": ".py",
   "mimetype": "text/x-python",
   "name": "python",
   "nbconvert_exporter": "python",
   "pygments_lexer": "ipython3",
   "version": "3.10.4"
  }
 },
 "nbformat": 4,
 "nbformat_minor": 5
}
