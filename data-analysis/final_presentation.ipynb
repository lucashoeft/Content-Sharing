{
 "cells": [
  {
   "cell_type": "markdown",
   "id": "c10bbf54",
   "metadata": {},
   "source": [
    "# Final Presentation\n",
    "\n",
    "This jupyter notebook shows all final plots."
   ]
  },
  {
   "cell_type": "code",
   "execution_count": 94,
   "id": "af3b234b",
   "metadata": {},
   "outputs": [],
   "source": [
    "import pandas as pd\n",
    "import numpy as np\n",
    "import seaborn as sns\n",
    "import matplotlib.pyplot as plt"
   ]
  },
  {
   "cell_type": "markdown",
   "id": "c45f74ec",
   "metadata": {},
   "source": [
    "### Variables"
   ]
  },
  {
   "cell_type": "code",
   "execution_count": 95,
   "id": "4edf82d2",
   "metadata": {},
   "outputs": [],
   "source": [
    "# Voting: '2021-09-26', Official Start: '2021-10-26'\n",
    "date_parameter_tweet_selection = pd.to_datetime('2021-08-30') "
   ]
  },
  {
   "cell_type": "markdown",
   "id": "d6438150",
   "metadata": {},
   "source": [
    "### Data Import"
   ]
  },
  {
   "cell_type": "code",
   "execution_count": 96,
   "id": "934278c3",
   "metadata": {},
   "outputs": [],
   "source": [
    "# Accounts\n",
    "user_list = pd.read_csv('../data/processed/user_list.csv', sep=\";\", na_values=\"\", dtype={'twitter_id': str})\n",
    "mdb_list = pd.read_csv('../data/processed/mdb_list.csv', sep=\";\", na_values=\"\")\n",
    "\n",
    "# Friendships\n",
    "user_friendships_evaluation = pd.read_csv('../data/processed/user_friendships_evaluation.csv', sep=\";\", na_values=\"\", dtype={'source_id': str, 'target_id': str})\n",
    "user_friendships = pd.read_csv('../data/processed/user_friendships.csv', sep=\";\", na_values=\"\", dtype={'source_id': str, 'target_id': str})\n",
    "\n",
    "# Tweets\n",
    "tweet_list = pd.read_csv('../data/processed/tweet_list.csv', sep=\";\", na_values=\"\", lineterminator='\\n')\n",
    "retweet_list = pd.read_csv('../data/processed/retweet_list.csv', sep=\";\", na_values=\"\", lineterminator='\\n')\n",
    "quote_list = pd.read_csv('../data/processed/quote_list.csv', sep=\";\", na_values=\"\", lineterminator='\\n')"
   ]
  },
  {
   "cell_type": "markdown",
   "id": "f8b3a290",
   "metadata": {},
   "source": [
    "### Preprocessing"
   ]
  },
  {
   "cell_type": "code",
   "execution_count": 97,
   "id": "9c39e65c",
   "metadata": {},
   "outputs": [],
   "source": [
    "# Accounts\n",
    "user_list_processed = user_list\n",
    "mdb_list_processed = mdb_list\n",
    "# display(user_list_processed)\n",
    "\n"
   ]
  },
  {
   "cell_type": "code",
   "execution_count": 98,
   "id": "92d88ffb",
   "metadata": {},
   "outputs": [],
   "source": [
    "# Friendships\n",
    "user_friendships_evaluation_processed = user_friendships_evaluation\n",
    "user_friendships_processed = user_friendships\n",
    "\n",
    "# Remove user_friendships that are not part of the user_list data frame\n",
    "user_friendships_processed = user_friendships_processed[user_friendships_processed.source_screen_name.isin(user_list_processed.twitter_handle)]\n",
    "user_friendships_processed = user_friendships_processed[user_friendships_processed.target_screen_name.isin(user_list_processed.twitter_handle)]"
   ]
  },
  {
   "cell_type": "code",
   "execution_count": 99,
   "id": "75b4ad99",
   "metadata": {},
   "outputs": [
    {
     "name": "stdout",
     "output_type": "stream",
     "text": [
      "(212038, 19)\n",
      "(212038, 19)\n",
      "<bound method Series.unique of 0         2022-05-27\n",
      "1         2022-05-25\n",
      "2         2022-05-25\n",
      "3         2022-05-25\n",
      "4         2022-05-23\n",
      "             ...    \n",
      "212033    2021-09-28\n",
      "212034    2021-09-27\n",
      "212035    2021-09-26\n",
      "212036    2021-09-26\n",
      "212037    2021-09-26\n",
      "Name: tweet_created_at, Length: 212038, dtype: object>\n"
     ]
    },
    {
     "name": "stderr",
     "output_type": "stream",
     "text": [
      "/Library/Frameworks/Python.framework/Versions/3.10/lib/python3.10/site-packages/pandas/core/ops/array_ops.py:73: FutureWarning: Comparison of Timestamp with datetime.date is deprecated in order to match the standard library behavior. In a future version these will be considered non-comparable. Use 'ts == pd.Timestamp(date)' or 'ts.date() == date' instead.\n",
      "  result = libops.scalar_compare(x.ravel(), y, op)\n"
     ]
    }
   ],
   "source": [
    "# Tweets\n",
    "tweet_list_processed = tweet_list\n",
    "print(tweet_list_processed.shape)\n",
    "tweet_list_processed['tweet_created_at'] = pd.to_datetime(tweet_list_processed['tweet_created_at']).dt.date\n",
    "tweet_list_processed = tweet_list_processed[tweet_list_processed['tweet_created_at'] > date_parameter_tweet_selection]\n",
    "print(tweet_list_processed.shape)\n",
    "print(tweet_list_processed['tweet_created_at'].unique)\n",
    "\n",
    "\n",
    "retweet_list_processed = retweet_list\n",
    "\n",
    "quote_list_processed = quote_list\n",
    "\n",
    "# display(tweet_list_processed)"
   ]
  },
  {
   "cell_type": "markdown",
   "id": "7e21dd06",
   "metadata": {},
   "source": [
    "### Results (General)"
   ]
  },
  {
   "cell_type": "code",
   "execution_count": 131,
   "id": "5c46f52c",
   "metadata": {},
   "outputs": [
    {
     "name": "stdout",
     "output_type": "stream",
     "text": [
      "Active Accounts: 592\n",
      "\n",
      "Account Relationships: 38018\n",
      "Network Density: 21.7 %\n",
      "- Weak Ties: 19653\n",
      "- Strong Ties: 18365\n",
      "\n",
      "Tweets (after 2021-08-30 00:00:00 ):  212038\n",
      "- Pure Tweets: 55992\n",
      "- Retweets: 81911\n",
      "- Retweets (within this Network): 3916\n",
      "- Quotes: 21078\n",
      "- Quotes (within this Network): 817\n",
      "- Replies: 53057\n"
     ]
    }
   ],
   "source": [
    "print(\"Active Accounts:\", user_list_processed.shape[0])\n",
    "print()\n",
    "\n",
    "# For an undirected graph (only checking if edge is weak or strong)\n",
    "print(\"Account Relationships:\", user_friendships_evaluation_processed[user_friendships_evaluation_processed['tie_type'] != 'no tie'].shape[0])\n",
    "print(\"Network Density:\", round(user_friendships_evaluation_processed[user_friendships_evaluation_processed['tie_type'] != 'no tie'].shape[0] / ((user_list_processed.shape[0] * user_list_processed.shape[0]-1)/2) * 100, 2), \"%\")\n",
    "print(\"- Weak Ties:\", user_friendships_evaluation_processed[user_friendships_evaluation_processed['tie_type']== 'weak'].shape[0])\n",
    "print(\"- Strong Ties:\", user_friendships_evaluation_processed[user_friendships_evaluation_processed['tie_type']== 'strong'].shape[0])\n",
    "print()\n",
    "\n",
    "# Tweets\n",
    "print(\"Tweets (after\", date_parameter_tweet_selection, \"): \", tweet_list_processed.shape[0])\n",
    "print(\"- Pure Tweets:\", tweet_list_processed[tweet_list_processed['tweet_referenced_tweet_type'].isnull()].shape[0])\n",
    "print(\"- Retweets:\", tweet_list_processed[tweet_list_processed['tweet_referenced_tweet_type'] == \"retweeted\"].shape[0])\n",
    "print(\"- Retweets (within this Network):\", retweet_list_processed.shape[0])\n",
    "print(\"- Quotes:\", tweet_list_processed[tweet_list_processed['tweet_referenced_tweet_type'] == \"quoted\"].shape[0])\n",
    "print(\"- Quotes (within this Network):\", quote_list_processed.shape[0])\n",
    "print(\"- Replies:\", tweet_list_processed[tweet_list_processed['tweet_referenced_tweet_type'] == \"replied_to\"].shape[0])\n",
    "\n",
    "# print(\"Edges\", user_friendships_processed.shape[0])\n",
    "# print(\"Edges = Weak Ties + (Strong Ties * 2)\")"
   ]
  },
  {
   "cell_type": "markdown",
   "id": "0bc5b7d3",
   "metadata": {},
   "source": [
    "### Account Relationships"
   ]
  },
  {
   "cell_type": "code",
   "execution_count": 101,
   "id": "779fc028",
   "metadata": {},
   "outputs": [],
   "source": [
    "# Network"
   ]
  },
  {
   "cell_type": "code",
   "execution_count": 102,
   "id": "58d4b5fa",
   "metadata": {},
   "outputs": [],
   "source": [
    "# Table (Social Tie Distribution)"
   ]
  },
  {
   "cell_type": "markdown",
   "id": "652c6277",
   "metadata": {},
   "source": [
    "### Retweeting"
   ]
  },
  {
   "cell_type": "code",
   "execution_count": 103,
   "id": "1ea5609a",
   "metadata": {},
   "outputs": [],
   "source": [
    "# Network"
   ]
  },
  {
   "cell_type": "code",
   "execution_count": 104,
   "id": "78c973fb",
   "metadata": {},
   "outputs": [
    {
     "name": "stdout",
     "output_type": "stream",
     "text": [
      "(3916, 11)\n"
     ]
    }
   ],
   "source": [
    "# Table\n",
    "print(retweet_list.shape)"
   ]
  },
  {
   "cell_type": "markdown",
   "id": "3e56668c",
   "metadata": {},
   "source": [
    "### Quoting"
   ]
  },
  {
   "cell_type": "code",
   "execution_count": 105,
   "id": "ca9ec81f",
   "metadata": {},
   "outputs": [],
   "source": [
    "# Network"
   ]
  },
  {
   "cell_type": "code",
   "execution_count": 106,
   "id": "81055cbe",
   "metadata": {},
   "outputs": [],
   "source": [
    "# Table"
   ]
  }
 ],
 "metadata": {
  "kernelspec": {
   "display_name": "Python 3 (ipykernel)",
   "language": "python",
   "name": "python3"
  },
  "language_info": {
   "codemirror_mode": {
    "name": "ipython",
    "version": 3
   },
   "file_extension": ".py",
   "mimetype": "text/x-python",
   "name": "python",
   "nbconvert_exporter": "python",
   "pygments_lexer": "ipython3",
   "version": "3.10.4"
  }
 },
 "nbformat": 4,
 "nbformat_minor": 5
}
